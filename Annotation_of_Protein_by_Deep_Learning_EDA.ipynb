{
 "cells": [
  {
   "cell_type": "markdown",
   "metadata": {
    "id": "FLdfV9i1xsuu"
   },
   "source": [
    "# Re-program by Dipankar Bhowmik (Exploratory Data Analysis)\n",
    "### Date: 17-09-2020"
   ]
  },
  {
   "cell_type": "markdown",
   "metadata": {
    "id": "bJeWaWuMxsuw"
   },
   "source": [
    "# Problem description\n",
    "\n",
    "This directory contains data to train a model to predict the function of protein domains, based on the PFam dataset.\n",
    "Domains are functional sub-parts of proteins; much like images in ImageNet are pre segmented to contain exactly one object class, this data is presegmented to contain exactly and only one domain.\n",
    "The purpose of the dataset is to repose the PFam seed dataset as a multiclass classification machine learning task.\n",
    "The task is: given the amino acid sequence of the protein domain, predict which class it belongs to. There are about 1 million training examples, and 18,000 output classes.\n",
    "\n",
    "# Data structure\n",
    "This data is more completely described by the publication \"Can Deep Learning Classify the Protein Universe\", Bileschi et al.\n",
    "## Data split and layout\n",
    "The approach used to partition the data into training/dev/testing folds is a random split.\n",
    "* Training data should be used to train your models.\n",
    "* Dev (development) data should be used in a close validation loop (maybe for hyperparameter tuning or model validation).\n",
    "* Test data should be reserved for much less frequent evaluations - this helps avoid overfitting on your test data, as it should only be used infrequently.\n",
    "\n",
    "## File content\n",
    "Each fold (train, dev, test) has a number of files in it. Each of those files contains csv on each line, which has the following fields:\n",
    "\n",
    "<pre>sequence: HWLQMRDSMNTYNNMVNRCFATCIRSFQEKKVNAEEMDCTKRCVTKFVGYSQRVALRFAE \n",
    "family_accession: PF02953.15\n",
    "sequence_name: C5K6N5_PERM5/28-87\n",
    "aligned_sequence: ....HWLQMRDSMNTYNNMVNRCFATCI...........RS.F....QEKKVNAEE.....MDCT....KRCVTKFVGYSQRVALRFAE \n",
    "family_id: zf-Tim10_DDP\n",
    "</pre>\n",
    "\n",
    "Description of fields: \n",
    "- sequence: These are usually the input features to your model. Amino acid sequence for this domain. There are 20 very common amino acids (frequency > 1,000,000), and 4 amino acids that are quite uncommon: X, U, B, O, Z. \n",
    "- family_accession: These are usually the labels for your model. Accession number in form PFxxxxx.y (Pfam), where xxxxx is the family accession, and y is the version number. Some values of y are greater than ten, and so 'y' has two digits. \n",
    "- family_id: One word name for family. \n",
    "- sequence_name: Sequence name, in the form \"uniprot_accession_id/start_index-and end_index\". \n",
    "- aligned_sequence: Contains a single sequence from the multiple sequence alignment (with the rest of the members of the family in seed, with gaps retained.\n",
    "\n",
    "Generally, the family_accession field is the label, and the sequence (or aligned sequence) is the training feature.\n",
    "This sequence corresponds to a domain, not a full protein.\n",
    "The contents of these fields is the same as to the data provided in Stockholm format by PFam at ftp://ftp.ebi.ac.uk/pub/databases/Pfam/releases/Pfam32.0/Pfam-A.seed.gz\n"
   ]
  },
  {
   "cell_type": "markdown",
   "metadata": {
    "id": "PevVVdGgxsux"
   },
   "source": [
    "# EDA"
   ]
  },
  {
   "cell_type": "code",
   "execution_count": null,
   "metadata": {
    "id": "94fly5JOxsuy"
   },
   "outputs": [],
   "source": [
    "import matplotlib.pyplot as plt # plotting\n",
    "import numpy as np # linear algebra\n",
    "import os # accessing directory structure\n",
    "import pandas as pd # data processing, CSV file I/O (e.g. pd.read_csv)\n",
    "from tqdm import tqdm # Decorate an iterable object, returning an iterator which acts exactly like the original iterable, \n",
    "                      # but prints a dynamically updating progressbar every time a value is requested\n",
    "import re # used to work with Regular Expressions.\n",
    "import matplotlib.pyplot as plt # Python 2D plotting library\n",
    "import seaborn as sns #Seaborn is a library for making statistical graphics in Python\n",
    "from pandas.plotting import table # Basic Plotting\n",
    "from sklearn.feature_extraction.text import CountVectorizer # Convert a collection of text documents to a matrix of token counts\n",
    "from sklearn.feature_extraction.text import TfidfVectorizer # Convert a collection of raw documents to a matrix of TF-IDF features\n",
    "import time # provides various time-related functions\n",
    "from datetime import timedelta #timedelta:- A duration expressing the difference between two date, time, or datetime.\n",
    "from google.colab import drive # Downloading Datasets into Google Drive via Google Colab\n",
    "from collections import Counter # It allows you to count the items in an iterable list\n",
    "from keras.preprocessing.sequence import pad_sequences #Takes in a sequence of data-points gathered at equal intervals, along with time series parameters\n",
    "                                                       #such as stride, length of history, etc., to produce batches for training/validation\n",
    "from keras.utils import to_categorical  # It is used to convert array of labeled data(from 0 to nb_classes-1) to one-hot vector.\n",
    "from sklearn.preprocessing import LabelEncoder # Convert categorical values into numerical values, used to encode target values, i.e. y\n",
    "import random # It implements pseudo-random number generators for various distributions"
   ]
  },
  {
   "cell_type": "code",
   "execution_count": null,
   "metadata": {
    "id": "8zeUILn8-EJq"
   },
   "outputs": [],
   "source": [
    "import tensorflow as tf # Software library \n",
    "from tensorflow import keras # TensorFlow's high-level API for building and training deep learning models.\n",
    "from tensorflow.keras.utils import plot_model # Converts a Keras model to dot format and save to a file\n",
    "from tensorflow.keras import layers #  A layer encapsulates both a state (the layer's \"weights\") and a transformation from inputs to outputs."
   ]
  },
  {
   "cell_type": "code",
   "execution_count": null,
   "metadata": {
    "colab": {
     "base_uri": "https://localhost:8080/",
     "height": 34
    },
    "id": "kzTSf5QCfXhI",
    "outputId": "6db1caf3-64ce-4193-ce0e-8c1383fe2677"
   },
   "outputs": [
    {
     "name": "stdout",
     "output_type": "stream",
     "text": [
      "2.3.0\n"
     ]
    }
   ],
   "source": [
    "# Restart runtime using 'Runtime' -> 'Restart runtime...'\n",
    "%tensorflow_version 2.x\n",
    "import tensorflow as tf\n",
    "print(tf.__version__)"
   ]
  },
  {
   "cell_type": "code",
   "execution_count": null,
   "metadata": {
    "id": "bYz3i3Yexsu2"
   },
   "outputs": [],
   "source": [
    "#Functions to save objects for future usage and repossess\n",
    "#https://stackoverflow.com/questions/1253528/is-there-an-easy-way-to-pickle-a-python-function-or-otherwise-serialize-its-cod\n",
    "import pickle\n",
    "def transmit(obj,filename):\n",
    "    pickle.dump(obj,open(filename+\".p\",\"wb\"), protocol=4)\n",
    "def receive(filename):\n",
    "    temp = pickle.load(open(filename+\".p\",\"rb\"))\n",
    "    return temp"
   ]
  },
  {
   "cell_type": "code",
   "execution_count": null,
   "metadata": {
    "colab": {
     "base_uri": "https://localhost:8080/",
     "height": 34
    },
    "id": "dPcNZZzBzmyf",
    "outputId": "5a65c2b6-aad9-4f30-9216-d7447a296f28"
   },
   "outputs": [
    {
     "name": "stdout",
     "output_type": "stream",
     "text": [
      "Drive already mounted at /content/drive; to attempt to forcibly remount, call drive.mount(\"/content/drive\", force_remount=True).\n"
     ]
    }
   ],
   "source": [
    "drive.mount('/content/drive') # for mounting Google Drive files "
   ]
  },
  {
   "cell_type": "markdown",
   "metadata": {
    "id": "mbdhILkBxsu5"
   },
   "source": [
    "\n",
    "### Loading the data"
   ]
  },
  {
   "cell_type": "code",
   "execution_count": null,
   "metadata": {
    "colab": {
     "base_uri": "https://localhost:8080/",
     "height": 55
    },
    "id": "eCuSspJhxsu6",
    "outputId": "4153e55f-b61c-41c7-b541-81ed44f31e00"
   },
   "outputs": [
    {
     "name": "stdout",
     "output_type": "stream",
     "text": [
      "Available dataset partitions:  ['train_600_onehot.p', 'test_600_onehot.p', 'dev_600_onehot.p', 'train_600_ydata.p', 'test_600_ydata.p', 'dev_600_ydata.p', 'Annotation_of_Protein_by_Deep_Learning_15_05_2020.ipynb', 'Load images.ipynb', 'Untitled1.ipynb', 'train_ASCII_100_pad.p', 'test_ASCII_100_pad.p', 'dev_ASCII_100_pad.p', 'Untitled2.ipynb', 'Untitled (2)', 'pandas_basics_practice.ipynb', 'LIVE_Pandas.ipynb', 'LIVE-1_Python (1).ipynb', 'k.p', 'Untitled (1)', 'Untitled3.ipynb', 'Reference.ipynb', 'Implementing neural machine translation using keras.ipynb', 'Untitled4.ipynb', 'Annotation_of_Protein_by_Deep_Learning_31_05_2020_fit_generator.ipynb', 'fit_gen_sample.ipynb', 'Untitled0_6th_08_2020.ipynb', 'Untitled5.ipynb', 'Untitled0.ipynb', 'Untitled0_1.ipynb', 'test.p', 'dev.p', 'train.p', 'Untitled6.ipynb', 'Untitled', 'running.ipynb', 'Untitled7.ipynb', 'Annotation_of_Protein_by_Deep_Learning_19_08_2020_fit_generator.ipynb', 'Untitled8.ipynb', 'Annotation_of_Protein_by_Deep_Learning_31_05_2020_submit.ipynb', 'train', 'dev', 'test', 'Annotation_of_Protein_by_Deep_Learning_fit_generator_LSTM.ipynb', 'train_17k_num.p', 'test_17k_num.p', 'dev_17k_num.p', 'Annotation_of_Protein_by_Deep_Learning_fit_generator_26_08_2020.ipynb']\n"
     ]
    }
   ],
   "source": [
    "## code sourc https://www.kaggle.com/drewbryant/starter-pfam-seed-random-split\n",
    "## List out the available directories in the path\n",
    "print('Available dataset partitions: ', os.listdir('drive/My Drive/Colab Notebooks'))"
   ]
  },
  {
   "cell_type": "code",
   "execution_count": null,
   "metadata": {
    "colab": {
     "base_uri": "https://localhost:8080/",
     "height": 72
    },
    "id": "KQdNyT_8xsu9",
    "outputId": "0c0d0e5f-0ad9-44ba-9fb1-ec852650493f"
   },
   "outputs": [
    {
     "name": "stdout",
     "output_type": "stream",
     "text": [
      "Dataset partition \"test\" has 126171 sequences\n",
      "Dataset partition \"dev\" has 126171 sequences\n",
      "Dataset partition \"train\" has 1086741 sequences\n"
     ]
    }
   ],
   "source": [
    "# Reading the content of the folder Development by creating function 'read_all_shards'\n",
    "\n",
    "def read_all_shards(partition='dev', data_dir='drive/My Drive/Colab Notebooks'):\n",
    "    shards = []\n",
    "    ## Returns a list containing the names of the entries in the directory given by path \"data_dir\".\n",
    "    for fn in os.listdir(os.path.join(data_dir, partition)):\n",
    "        ## join and open given path \"data_dir\" components intelligently.\n",
    "        with open(os.path.join(data_dir, partition, fn)) as f: ## here f is a file handler\n",
    "            ## Read and append every file with skipping \"aligned_sequence\" column\n",
    "            shards.append(pd.read_csv(f, usecols = lambda column : column not in[\"aligned_sequence\"]))\n",
    "    return pd.concat(shards)\n",
    "\n",
    "## Building the respective ('dev', 'test', 'train') the files\n",
    "test = read_all_shards('test')\n",
    "dev = read_all_shards('dev')\n",
    "train = read_all_shards('train')\n",
    "\n",
    "## Calcutlating the no. of sequence in each file.\n",
    "partitions = {'test': test, 'dev': dev, 'train': train}\n",
    "for name, df in partitions.items():\n",
    "    print('Dataset partition \"%s\" has %d sequences' % (name, len(df)))"
   ]
  },
  {
   "cell_type": "code",
   "execution_count": null,
   "metadata": {
    "id": "p4ULgmH27jRY"
   },
   "outputs": [],
   "source": [
    "transmit(train,\"drive/My Drive/Colab Notebooks/train\")\n",
    "transmit(test,\"drive/My Drive/Colab Notebooks/test\")\n",
    "transmit(dev,\"drive/My Drive/Colab Notebooks/dev\")"
   ]
  },
  {
   "cell_type": "code",
   "execution_count": null,
   "metadata": {
    "id": "cSk5wDcN59cW"
   },
   "outputs": [],
   "source": [
    "train = receive(\"drive/My Drive/Colab Notebooks/train\")\n",
    "test = receive(\"drive/My Drive/Colab Notebooks/test\")\n",
    "dev = receive(\"drive/My Drive/Colab Notebooks/dev\")"
   ]
  },
  {
   "cell_type": "code",
   "execution_count": null,
   "metadata": {
    "colab": {
     "base_uri": "https://localhost:8080/",
     "height": 206
    },
    "id": "L2zrmCTJ8XHc",
    "outputId": "0533256e-4d62-457f-ba1f-7e3f2e210ae0"
   },
   "outputs": [
    {
     "data": {
      "text/html": [
       "<div>\n",
       "<style scoped>\n",
       "    .dataframe tbody tr th:only-of-type {\n",
       "        vertical-align: middle;\n",
       "    }\n",
       "\n",
       "    .dataframe tbody tr th {\n",
       "        vertical-align: top;\n",
       "    }\n",
       "\n",
       "    .dataframe thead th {\n",
       "        text-align: right;\n",
       "    }\n",
       "</style>\n",
       "<table border=\"1\" class=\"dataframe\">\n",
       "  <thead>\n",
       "    <tr style=\"text-align: right;\">\n",
       "      <th></th>\n",
       "      <th>family_id</th>\n",
       "      <th>sequence_name</th>\n",
       "      <th>family_accession</th>\n",
       "      <th>sequence</th>\n",
       "    </tr>\n",
       "  </thead>\n",
       "  <tbody>\n",
       "    <tr>\n",
       "      <th>0</th>\n",
       "      <td>GNAT_acetyltran</td>\n",
       "      <td>R6RQF6_9CLOT/17-251</td>\n",
       "      <td>PF12746.7</td>\n",
       "      <td>AFLFSGRREVMADACLQGMMGCVYGTAGGMDSAAAVLGDFCFLAGK...</td>\n",
       "    </tr>\n",
       "    <tr>\n",
       "      <th>1</th>\n",
       "      <td>MoaC</td>\n",
       "      <td>W5NKR5_LEPOC/505-640</td>\n",
       "      <td>PF01967.21</td>\n",
       "      <td>MVDVGGKPVSRRTAAASATVLLGEKAFWLVKENQLAKGDALAVAQI...</td>\n",
       "    </tr>\n",
       "    <tr>\n",
       "      <th>2</th>\n",
       "      <td>Methyltransf_25</td>\n",
       "      <td>C0QLU8_DESAH/50-147</td>\n",
       "      <td>PF13649.6</td>\n",
       "      <td>VLDVACGTCDVAMEARNQTGDAAFIIGTDFSPGMLTLGLQKLKKNR...</td>\n",
       "    </tr>\n",
       "    <tr>\n",
       "      <th>3</th>\n",
       "      <td>EMG1</td>\n",
       "      <td>T1G7Q2_HELRO/22-222</td>\n",
       "      <td>PF03587.14</td>\n",
       "      <td>VVLERASLESVKVGKEYQLLNCDRHKGIAKKFKRDISTCRPDITHQ...</td>\n",
       "    </tr>\n",
       "    <tr>\n",
       "      <th>4</th>\n",
       "      <td>Glyco_hydro_30C</td>\n",
       "      <td>C6VRM9_DYAFD/453-540</td>\n",
       "      <td>PF17189.4</td>\n",
       "      <td>GAVRVDVSGGLGTDAMVVSSYLNTDKSLVTVIVNADNQDRDISLAI...</td>\n",
       "    </tr>\n",
       "  </tbody>\n",
       "</table>\n",
       "</div>"
      ],
      "text/plain": [
       "         family_id  ...                                           sequence\n",
       "0  GNAT_acetyltran  ...  AFLFSGRREVMADACLQGMMGCVYGTAGGMDSAAAVLGDFCFLAGK...\n",
       "1             MoaC  ...  MVDVGGKPVSRRTAAASATVLLGEKAFWLVKENQLAKGDALAVAQI...\n",
       "2  Methyltransf_25  ...  VLDVACGTCDVAMEARNQTGDAAFIIGTDFSPGMLTLGLQKLKKNR...\n",
       "3             EMG1  ...  VVLERASLESVKVGKEYQLLNCDRHKGIAKKFKRDISTCRPDITHQ...\n",
       "4  Glyco_hydro_30C  ...  GAVRVDVSGGLGTDAMVVSSYLNTDKSLVTVIVNADNQDRDISLAI...\n",
       "\n",
       "[5 rows x 4 columns]"
      ]
     },
     "execution_count": 7,
     "metadata": {
      "tags": []
     },
     "output_type": "execute_result"
    }
   ],
   "source": [
    "test.head(5)"
   ]
  },
  {
   "cell_type": "code",
   "execution_count": null,
   "metadata": {
    "colab": {
     "base_uri": "https://localhost:8080/",
     "height": 424
    },
    "id": "plW9dTvCxsvE",
    "outputId": "118bc6d9-b07d-40e1-ed74-fa72805d8e7b"
   },
   "outputs": [
    {
     "data": {
      "text/html": [
       "<div>\n",
       "<style scoped>\n",
       "    .dataframe tbody tr th:only-of-type {\n",
       "        vertical-align: middle;\n",
       "    }\n",
       "\n",
       "    .dataframe tbody tr th {\n",
       "        vertical-align: top;\n",
       "    }\n",
       "\n",
       "    .dataframe thead th {\n",
       "        text-align: right;\n",
       "    }\n",
       "</style>\n",
       "<table border=\"1\" class=\"dataframe\">\n",
       "  <thead>\n",
       "    <tr style=\"text-align: right;\">\n",
       "      <th></th>\n",
       "      <th>family_id</th>\n",
       "      <th>sequence_name</th>\n",
       "      <th>family_accession</th>\n",
       "      <th>sequence</th>\n",
       "    </tr>\n",
       "  </thead>\n",
       "  <tbody>\n",
       "    <tr>\n",
       "      <th>0</th>\n",
       "      <td>zf-Tim10_DDP</td>\n",
       "      <td>N1QB11_PSEFD/15-76</td>\n",
       "      <td>PF02953.15</td>\n",
       "      <td>RMEKKQMKDFMNMYSNLVQRCFNDCVTDFTSKSLQSKEEGCVMRCV...</td>\n",
       "    </tr>\n",
       "    <tr>\n",
       "      <th>1</th>\n",
       "      <td>DNA_primase_S</td>\n",
       "      <td>A8XA78_CAEBR/105-345</td>\n",
       "      <td>PF01896.19</td>\n",
       "      <td>FDIDLTDYDNIRNCCKEATVCPKCWKFMVLAVKILDFLLDDMFGFN...</td>\n",
       "    </tr>\n",
       "    <tr>\n",
       "      <th>2</th>\n",
       "      <td>Col_cuticle_N</td>\n",
       "      <td>A8XBM5_CAEBR/9-56</td>\n",
       "      <td>PF01484.17</td>\n",
       "      <td>ASAAILSGATIVGCLFFAAQIFNEVNSLYDDVMVDMDAFKVKSNIAWD</td>\n",
       "    </tr>\n",
       "    <tr>\n",
       "      <th>3</th>\n",
       "      <td>GST_C_3</td>\n",
       "      <td>W4XBU3_STRPU/120-207</td>\n",
       "      <td>PF14497.6</td>\n",
       "      <td>KDKLKESLPKTVNPILLKFLEKALEDNPNGNGYFVGQDATMVEFVY...</td>\n",
       "    </tr>\n",
       "    <tr>\n",
       "      <th>4</th>\n",
       "      <td>Ada_Zn_binding</td>\n",
       "      <td>E8U5K2_DEIML/9-73</td>\n",
       "      <td>PF02805.16</td>\n",
       "      <td>DRWQAVVQREAAQDGLFLYAVRTTGIYCRPSCPSRRPRRENVTFFE...</td>\n",
       "    </tr>\n",
       "    <tr>\n",
       "      <th>...</th>\n",
       "      <td>...</td>\n",
       "      <td>...</td>\n",
       "      <td>...</td>\n",
       "      <td>...</td>\n",
       "    </tr>\n",
       "    <tr>\n",
       "      <th>12466</th>\n",
       "      <td>Mac</td>\n",
       "      <td>Q7NJL4_GLOVI/8-59</td>\n",
       "      <td>PF12464.8</td>\n",
       "      <td>KMLAGELYRASDPELVALRVSARGLLALYNATEPGPGERRQQLLRE...</td>\n",
       "    </tr>\n",
       "    <tr>\n",
       "      <th>12467</th>\n",
       "      <td>DUF2461</td>\n",
       "      <td>H6MR07_GORPV/9-203</td>\n",
       "      <td>PF09365.10</td>\n",
       "      <td>AALDFYDDLEIDNTKAFWTAHKATYSSAVAEPMAALTADLAEEFGE...</td>\n",
       "    </tr>\n",
       "    <tr>\n",
       "      <th>12468</th>\n",
       "      <td>CutA1</td>\n",
       "      <td>B3LDD6_PLAKH/62-160</td>\n",
       "      <td>PF03091.15</td>\n",
       "      <td>IAVYVTAPGTDVAEKISNVLLEDKLASCVNIIPGVLSLYHWKGEIA...</td>\n",
       "    </tr>\n",
       "    <tr>\n",
       "      <th>12469</th>\n",
       "      <td>LacAB_rpiB</td>\n",
       "      <td>R5QL61_9FIRM/2-140</td>\n",
       "      <td>PF02502.18</td>\n",
       "      <td>IAIGSDHGGFDLKEAVIAHLKEKGYEVKDVGCYDKSSCDYPVYGKA...</td>\n",
       "    </tr>\n",
       "    <tr>\n",
       "      <th>12470</th>\n",
       "      <td>S-layer</td>\n",
       "      <td>L0L1Y2_METHD/476-730</td>\n",
       "      <td>PF07752.11</td>\n",
       "      <td>DADANQSLDYTWTALSYSGFYYDLDTGEGSETMTVHLDSRSDRSID...</td>\n",
       "    </tr>\n",
       "  </tbody>\n",
       "</table>\n",
       "<p>126171 rows × 4 columns</p>\n",
       "</div>"
      ],
      "text/plain": [
       "            family_id  ...                                           sequence\n",
       "0        zf-Tim10_DDP  ...  RMEKKQMKDFMNMYSNLVQRCFNDCVTDFTSKSLQSKEEGCVMRCV...\n",
       "1       DNA_primase_S  ...  FDIDLTDYDNIRNCCKEATVCPKCWKFMVLAVKILDFLLDDMFGFN...\n",
       "2       Col_cuticle_N  ...   ASAAILSGATIVGCLFFAAQIFNEVNSLYDDVMVDMDAFKVKSNIAWD\n",
       "3             GST_C_3  ...  KDKLKESLPKTVNPILLKFLEKALEDNPNGNGYFVGQDATMVEFVY...\n",
       "4      Ada_Zn_binding  ...  DRWQAVVQREAAQDGLFLYAVRTTGIYCRPSCPSRRPRRENVTFFE...\n",
       "...               ...  ...                                                ...\n",
       "12466             Mac  ...  KMLAGELYRASDPELVALRVSARGLLALYNATEPGPGERRQQLLRE...\n",
       "12467         DUF2461  ...  AALDFYDDLEIDNTKAFWTAHKATYSSAVAEPMAALTADLAEEFGE...\n",
       "12468           CutA1  ...  IAVYVTAPGTDVAEKISNVLLEDKLASCVNIIPGVLSLYHWKGEIA...\n",
       "12469      LacAB_rpiB  ...  IAIGSDHGGFDLKEAVIAHLKEKGYEVKDVGCYDKSSCDYPVYGKA...\n",
       "12470         S-layer  ...  DADANQSLDYTWTALSYSGFYYDLDTGEGSETMTVHLDSRSDRSID...\n",
       "\n",
       "[126171 rows x 4 columns]"
      ]
     },
     "execution_count": 9,
     "metadata": {
      "tags": []
     },
     "output_type": "execute_result"
    }
   ],
   "source": [
    "dev"
   ]
  },
  {
   "cell_type": "code",
   "execution_count": null,
   "metadata": {
    "colab": {
     "base_uri": "https://localhost:8080/",
     "height": 424
    },
    "id": "M_jrc9pfxsvH",
    "outputId": "73755a77-1df5-44dd-fe04-945e3e8f2da6"
   },
   "outputs": [
    {
     "data": {
      "text/html": [
       "<div>\n",
       "<style scoped>\n",
       "    .dataframe tbody tr th:only-of-type {\n",
       "        vertical-align: middle;\n",
       "    }\n",
       "\n",
       "    .dataframe tbody tr th {\n",
       "        vertical-align: top;\n",
       "    }\n",
       "\n",
       "    .dataframe thead th {\n",
       "        text-align: right;\n",
       "    }\n",
       "</style>\n",
       "<table border=\"1\" class=\"dataframe\">\n",
       "  <thead>\n",
       "    <tr style=\"text-align: right;\">\n",
       "      <th></th>\n",
       "      <th>family_id</th>\n",
       "      <th>sequence_name</th>\n",
       "      <th>family_accession</th>\n",
       "      <th>sequence</th>\n",
       "    </tr>\n",
       "  </thead>\n",
       "  <tbody>\n",
       "    <tr>\n",
       "      <th>0</th>\n",
       "      <td>GMC_oxred_C</td>\n",
       "      <td>A4WZS5_RHOS5/416-539</td>\n",
       "      <td>PF05199.13</td>\n",
       "      <td>PHPESRIRLSTRRDAHGMPIPRIESRLGPDAFARLRFMARTCRAIL...</td>\n",
       "    </tr>\n",
       "    <tr>\n",
       "      <th>1</th>\n",
       "      <td>DUF2887</td>\n",
       "      <td>K9QI92_9NOSO/3-203</td>\n",
       "      <td>PF11103.8</td>\n",
       "      <td>RDSIYYQIFKRFPALIFELVDNRPPQAQNYRFESVEVKETAFRIDG...</td>\n",
       "    </tr>\n",
       "    <tr>\n",
       "      <th>2</th>\n",
       "      <td>zf-IS66</td>\n",
       "      <td>Q92LC9_RHIME/32-75</td>\n",
       "      <td>PF13005.7</td>\n",
       "      <td>TCCPDCGGELRLVGEDASEILDMIAAQMKVIEVARLKKSCRCCE</td>\n",
       "    </tr>\n",
       "    <tr>\n",
       "      <th>3</th>\n",
       "      <td>Asp_decarbox</td>\n",
       "      <td>X2GQZ4_9BACI/1-115</td>\n",
       "      <td>PF02261.16</td>\n",
       "      <td>MLRMMMNSKIHRATVTEADLNYVGSITIDEDILDAVGMLPNEKVHI...</td>\n",
       "    </tr>\n",
       "    <tr>\n",
       "      <th>4</th>\n",
       "      <td>Filamin</td>\n",
       "      <td>A7SQM3_NEMVE/342-439</td>\n",
       "      <td>PF00630.19</td>\n",
       "      <td>TACPKQCTARGLGLKAAPVTQPTRFVVILNDCHGQPLGRSEGELEV...</td>\n",
       "    </tr>\n",
       "    <tr>\n",
       "      <th>...</th>\n",
       "      <td>...</td>\n",
       "      <td>...</td>\n",
       "      <td>...</td>\n",
       "      <td>...</td>\n",
       "    </tr>\n",
       "    <tr>\n",
       "      <th>13510</th>\n",
       "      <td>DUF4276</td>\n",
       "      <td>B1Y1D3_LEPCP/11-206</td>\n",
       "      <td>PF14103.6</td>\n",
       "      <td>VEEPSMEAFLHALLPRLMPARRTFEIHPFQGKDDLMAKLEARLRAY...</td>\n",
       "    </tr>\n",
       "    <tr>\n",
       "      <th>13511</th>\n",
       "      <td>Lipoprotein_3</td>\n",
       "      <td>Y645_MYCPN/25-108</td>\n",
       "      <td>PF00938.17</td>\n",
       "      <td>AATQVISSLSSAQKYFESSQGELNKKNVIKILKEGYESDANKAVHA...</td>\n",
       "    </tr>\n",
       "    <tr>\n",
       "      <th>13512</th>\n",
       "      <td>Ribosomal_S6</td>\n",
       "      <td>I4DCK0_DESAJ/3-92</td>\n",
       "      <td>PF01250.17</td>\n",
       "      <td>AYEILYIIRPDMDEEATNALVDRLSGLAASNGGQNVTVDKWGKRRL...</td>\n",
       "    </tr>\n",
       "    <tr>\n",
       "      <th>13513</th>\n",
       "      <td>Sterile</td>\n",
       "      <td>K7J1J9_NASVI/384-476</td>\n",
       "      <td>PF03015.19</td>\n",
       "      <td>LDYVPALVADLLAVLHGNAPDSWALLRESMGDMCRLHRFSSGNWRI...</td>\n",
       "    </tr>\n",
       "    <tr>\n",
       "      <th>13514</th>\n",
       "      <td>Alkyl_sulf_dimr</td>\n",
       "      <td>A7HQ20_PARL1/362-499</td>\n",
       "      <td>PF14863.6</td>\n",
       "      <td>TPLEIAEELTLPPTLASEWYTRGYYGTLNHNAKAVYQRYLGWFDGN...</td>\n",
       "    </tr>\n",
       "  </tbody>\n",
       "</table>\n",
       "<p>1086741 rows × 4 columns</p>\n",
       "</div>"
      ],
      "text/plain": [
       "             family_id  ...                                           sequence\n",
       "0          GMC_oxred_C  ...  PHPESRIRLSTRRDAHGMPIPRIESRLGPDAFARLRFMARTCRAIL...\n",
       "1              DUF2887  ...  RDSIYYQIFKRFPALIFELVDNRPPQAQNYRFESVEVKETAFRIDG...\n",
       "2              zf-IS66  ...       TCCPDCGGELRLVGEDASEILDMIAAQMKVIEVARLKKSCRCCE\n",
       "3         Asp_decarbox  ...  MLRMMMNSKIHRATVTEADLNYVGSITIDEDILDAVGMLPNEKVHI...\n",
       "4              Filamin  ...  TACPKQCTARGLGLKAAPVTQPTRFVVILNDCHGQPLGRSEGELEV...\n",
       "...                ...  ...                                                ...\n",
       "13510          DUF4276  ...  VEEPSMEAFLHALLPRLMPARRTFEIHPFQGKDDLMAKLEARLRAY...\n",
       "13511    Lipoprotein_3  ...  AATQVISSLSSAQKYFESSQGELNKKNVIKILKEGYESDANKAVHA...\n",
       "13512     Ribosomal_S6  ...  AYEILYIIRPDMDEEATNALVDRLSGLAASNGGQNVTVDKWGKRRL...\n",
       "13513          Sterile  ...  LDYVPALVADLLAVLHGNAPDSWALLRESMGDMCRLHRFSSGNWRI...\n",
       "13514  Alkyl_sulf_dimr  ...  TPLEIAEELTLPPTLASEWYTRGYYGTLNHNAKAVYQRYLGWFDGN...\n",
       "\n",
       "[1086741 rows x 4 columns]"
      ]
     },
     "execution_count": 10,
     "metadata": {
      "tags": []
     },
     "output_type": "execute_result"
    }
   ],
   "source": [
    "train"
   ]
  },
  {
   "cell_type": "code",
   "execution_count": null,
   "metadata": {
    "id": "f9pCIYRexsvK"
   },
   "outputs": [],
   "source": [
    "## Concating three files\n",
    "frames = [test, dev, train]\n",
    "all_data = pd.concat(frames)"
   ]
  },
  {
   "cell_type": "code",
   "execution_count": null,
   "metadata": {
    "colab": {
     "base_uri": "https://localhost:8080/",
     "height": 424
    },
    "id": "t55WI29vxsvO",
    "outputId": "9d10c91b-1710-42fa-950d-b1400f22f69f"
   },
   "outputs": [
    {
     "data": {
      "text/html": [
       "<div>\n",
       "<style scoped>\n",
       "    .dataframe tbody tr th:only-of-type {\n",
       "        vertical-align: middle;\n",
       "    }\n",
       "\n",
       "    .dataframe tbody tr th {\n",
       "        vertical-align: top;\n",
       "    }\n",
       "\n",
       "    .dataframe thead th {\n",
       "        text-align: right;\n",
       "    }\n",
       "</style>\n",
       "<table border=\"1\" class=\"dataframe\">\n",
       "  <thead>\n",
       "    <tr style=\"text-align: right;\">\n",
       "      <th></th>\n",
       "      <th>family_id</th>\n",
       "      <th>sequence_name</th>\n",
       "      <th>family_accession</th>\n",
       "      <th>sequence</th>\n",
       "    </tr>\n",
       "  </thead>\n",
       "  <tbody>\n",
       "    <tr>\n",
       "      <th>0</th>\n",
       "      <td>GNAT_acetyltran</td>\n",
       "      <td>R6RQF6_9CLOT/17-251</td>\n",
       "      <td>PF12746.7</td>\n",
       "      <td>AFLFSGRREVMADACLQGMMGCVYGTAGGMDSAAAVLGDFCFLAGK...</td>\n",
       "    </tr>\n",
       "    <tr>\n",
       "      <th>1</th>\n",
       "      <td>MoaC</td>\n",
       "      <td>W5NKR5_LEPOC/505-640</td>\n",
       "      <td>PF01967.21</td>\n",
       "      <td>MVDVGGKPVSRRTAAASATVLLGEKAFWLVKENQLAKGDALAVAQI...</td>\n",
       "    </tr>\n",
       "    <tr>\n",
       "      <th>2</th>\n",
       "      <td>Methyltransf_25</td>\n",
       "      <td>C0QLU8_DESAH/50-147</td>\n",
       "      <td>PF13649.6</td>\n",
       "      <td>VLDVACGTCDVAMEARNQTGDAAFIIGTDFSPGMLTLGLQKLKKNR...</td>\n",
       "    </tr>\n",
       "    <tr>\n",
       "      <th>3</th>\n",
       "      <td>EMG1</td>\n",
       "      <td>T1G7Q2_HELRO/22-222</td>\n",
       "      <td>PF03587.14</td>\n",
       "      <td>VVLERASLESVKVGKEYQLLNCDRHKGIAKKFKRDISTCRPDITHQ...</td>\n",
       "    </tr>\n",
       "    <tr>\n",
       "      <th>4</th>\n",
       "      <td>Glyco_hydro_30C</td>\n",
       "      <td>C6VRM9_DYAFD/453-540</td>\n",
       "      <td>PF17189.4</td>\n",
       "      <td>GAVRVDVSGGLGTDAMVVSSYLNTDKSLVTVIVNADNQDRDISLAI...</td>\n",
       "    </tr>\n",
       "    <tr>\n",
       "      <th>...</th>\n",
       "      <td>...</td>\n",
       "      <td>...</td>\n",
       "      <td>...</td>\n",
       "      <td>...</td>\n",
       "    </tr>\n",
       "    <tr>\n",
       "      <th>13510</th>\n",
       "      <td>DUF4276</td>\n",
       "      <td>B1Y1D3_LEPCP/11-206</td>\n",
       "      <td>PF14103.6</td>\n",
       "      <td>VEEPSMEAFLHALLPRLMPARRTFEIHPFQGKDDLMAKLEARLRAY...</td>\n",
       "    </tr>\n",
       "    <tr>\n",
       "      <th>13511</th>\n",
       "      <td>Lipoprotein_3</td>\n",
       "      <td>Y645_MYCPN/25-108</td>\n",
       "      <td>PF00938.17</td>\n",
       "      <td>AATQVISSLSSAQKYFESSQGELNKKNVIKILKEGYESDANKAVHA...</td>\n",
       "    </tr>\n",
       "    <tr>\n",
       "      <th>13512</th>\n",
       "      <td>Ribosomal_S6</td>\n",
       "      <td>I4DCK0_DESAJ/3-92</td>\n",
       "      <td>PF01250.17</td>\n",
       "      <td>AYEILYIIRPDMDEEATNALVDRLSGLAASNGGQNVTVDKWGKRRL...</td>\n",
       "    </tr>\n",
       "    <tr>\n",
       "      <th>13513</th>\n",
       "      <td>Sterile</td>\n",
       "      <td>K7J1J9_NASVI/384-476</td>\n",
       "      <td>PF03015.19</td>\n",
       "      <td>LDYVPALVADLLAVLHGNAPDSWALLRESMGDMCRLHRFSSGNWRI...</td>\n",
       "    </tr>\n",
       "    <tr>\n",
       "      <th>13514</th>\n",
       "      <td>Alkyl_sulf_dimr</td>\n",
       "      <td>A7HQ20_PARL1/362-499</td>\n",
       "      <td>PF14863.6</td>\n",
       "      <td>TPLEIAEELTLPPTLASEWYTRGYYGTLNHNAKAVYQRYLGWFDGN...</td>\n",
       "    </tr>\n",
       "  </tbody>\n",
       "</table>\n",
       "<p>1339083 rows × 4 columns</p>\n",
       "</div>"
      ],
      "text/plain": [
       "             family_id  ...                                           sequence\n",
       "0      GNAT_acetyltran  ...  AFLFSGRREVMADACLQGMMGCVYGTAGGMDSAAAVLGDFCFLAGK...\n",
       "1                 MoaC  ...  MVDVGGKPVSRRTAAASATVLLGEKAFWLVKENQLAKGDALAVAQI...\n",
       "2      Methyltransf_25  ...  VLDVACGTCDVAMEARNQTGDAAFIIGTDFSPGMLTLGLQKLKKNR...\n",
       "3                 EMG1  ...  VVLERASLESVKVGKEYQLLNCDRHKGIAKKFKRDISTCRPDITHQ...\n",
       "4      Glyco_hydro_30C  ...  GAVRVDVSGGLGTDAMVVSSYLNTDKSLVTVIVNADNQDRDISLAI...\n",
       "...                ...  ...                                                ...\n",
       "13510          DUF4276  ...  VEEPSMEAFLHALLPRLMPARRTFEIHPFQGKDDLMAKLEARLRAY...\n",
       "13511    Lipoprotein_3  ...  AATQVISSLSSAQKYFESSQGELNKKNVIKILKEGYESDANKAVHA...\n",
       "13512     Ribosomal_S6  ...  AYEILYIIRPDMDEEATNALVDRLSGLAASNGGQNVTVDKWGKRRL...\n",
       "13513          Sterile  ...  LDYVPALVADLLAVLHGNAPDSWALLRESMGDMCRLHRFSSGNWRI...\n",
       "13514  Alkyl_sulf_dimr  ...  TPLEIAEELTLPPTLASEWYTRGYYGTLNHNAKAVYQRYLGWFDGN...\n",
       "\n",
       "[1339083 rows x 4 columns]"
      ]
     },
     "execution_count": 9,
     "metadata": {
      "tags": []
     },
     "output_type": "execute_result"
    }
   ],
   "source": [
    "all_data"
   ]
  },
  {
   "cell_type": "code",
   "execution_count": null,
   "metadata": {
    "colab": {
     "base_uri": "https://localhost:8080/",
     "height": 146
    },
    "id": "6BtACYFjxsvQ",
    "outputId": "66a2b630-1d3d-4121-f656-e5af2dcd9361"
   },
   "outputs": [
    {
     "name": "stdout",
     "output_type": "stream",
     "text": [
      "CPU times: user 266 ms, sys: 1.12 ms, total: 267 ms\n",
      "Wall time: 266 ms\n"
     ]
    },
    {
     "data": {
      "text/plain": [
       "count             1339083\n",
       "unique              17929\n",
       "top       Methyltransf_25\n",
       "freq                 4545\n",
       "Name: family_id, dtype: object"
      ]
     },
     "execution_count": 16,
     "metadata": {
      "tags": []
     },
     "output_type": "execute_result"
    }
   ],
   "source": [
    "%%time\n",
    "all_data.family_id.describe()"
   ]
  },
  {
   "cell_type": "markdown",
   "metadata": {
    "id": "w6NDn0UAxsvT"
   },
   "source": [
    "Total no. of unique families: 17929"
   ]
  },
  {
   "cell_type": "markdown",
   "metadata": {
    "id": "V-QWEVN0xsvU"
   },
   "source": [
    "\n",
    "### Find the families with the most sequences in all files\n"
   ]
  },
  {
   "cell_type": "code",
   "execution_count": null,
   "metadata": {
    "colab": {
     "base_uri": "https://localhost:8080/",
     "height": 1000
    },
    "id": "zjiQhsgkxsvU",
    "outputId": "7aeb8783-346d-4334-cca9-7bcd464414fe"
   },
   "outputs": [
    {
     "data": {
      "text/plain": [
       "family_id\n",
       "Methyltransf_25    4545\n",
       "LRR_1              2407\n",
       "Acetyltransf_7     2199\n",
       "His_kinase         1921\n",
       "Bac_transf         1908\n",
       "Lum_binding        1878\n",
       "DNA_binding_1      1681\n",
       "Chromate_transp    1579\n",
       "Lipase_GDSL_2      1564\n",
       "DnaJ_CXXCXGXG      1512\n",
       "SRP54_N            1481\n",
       "WD40               1465\n",
       "OTCace_N           1463\n",
       "PEP-utilizers      1433\n",
       "Glycos_trans_3N    1422\n",
       "THF_DHG_CYH        1389\n",
       "Prenyltransf       1380\n",
       "HTH_1              1330\n",
       "Maf                1325\n",
       "DHH                1319\n",
       "MoeA_N             1302\n",
       "AIRS               1289\n",
       "Fer2_2             1288\n",
       "Ham1p_like         1272\n",
       "PmbA_TldD          1272\n",
       "B5                 1267\n",
       "MutS_III           1240\n",
       "IPPT               1232\n",
       "Flavokinase        1198\n",
       "DnaJ_C             1171\n",
       "GARS_C             1124\n",
       "PTS-HPr            1101\n",
       "PCRF               1087\n",
       "Glyco_trans_1_4    1086\n",
       "CPSase_L_D3        1084\n",
       "gag_pre-integrs    1083\n",
       "Ala_racemase_C     1075\n",
       "ATP-synt_C         1075\n",
       "DUF2179            1074\n",
       "Ank                1063\n",
       "Glyco_transf_4     1055\n",
       "RF-1               1050\n",
       "P5CR_dimer         1050\n",
       "UPF0126            1046\n",
       "Pept_tRNA_hydro    1045\n",
       "MgtE               1034\n",
       "TrmE_N             1031\n",
       "ATP-synt           1029\n",
       "GIDA_assoc         1025\n",
       "Ribosomal_L9_C     1017\n",
       "FMN_bind           1017\n",
       "UbiA               1015\n",
       "HPPK               1006\n",
       "GARS_N             1004\n",
       "BacA               1003\n",
       "CDP-OH_P_transf     996\n",
       "Tyr_Deacylase       992\n",
       "Ig_3                990\n",
       "UPF0051             978\n",
       "CheB_methylest      978\n",
       "dtype: int64"
      ]
     },
     "execution_count": 17,
     "metadata": {
      "tags": []
     },
     "output_type": "execute_result"
    }
   ],
   "source": [
    "all_data.groupby('family_id').size().sort_values(ascending=False).head(60) #Grouping by 'family_id' first 60 in all file"
   ]
  },
  {
   "cell_type": "markdown",
   "metadata": {
    "id": "GvAik3-UxsvX"
   },
   "source": [
    "\n",
    "### The families with the least sequences\n"
   ]
  },
  {
   "cell_type": "code",
   "execution_count": null,
   "metadata": {
    "colab": {
     "base_uri": "https://localhost:8080/",
     "height": 1000
    },
    "id": "qhWEPdC2xsvY",
    "outputId": "a40cde39-03a5-416b-bf3f-5484199ffb70"
   },
   "outputs": [
    {
     "data": {
      "text/plain": [
       "family_id\n",
       "US6               1\n",
       "AfaD              1\n",
       "Peptidase_C62     1\n",
       "Peptidase_C7      1\n",
       "Peptidase_C74     1\n",
       "Peptidase_C8      1\n",
       "Tymo_45kd_70kd    1\n",
       "DUF5463           1\n",
       "DUF5464           1\n",
       "DUF5456           1\n",
       "DUF5465           1\n",
       "DUF5470           1\n",
       "DUF5471           1\n",
       "DUF5472           1\n",
       "DUF5473           1\n",
       "DUF5474           1\n",
       "DUF5475           1\n",
       "DUF5477           1\n",
       "DUF5478           1\n",
       "DUF5466           1\n",
       "DUF5439           1\n",
       "Peptidase_C53     1\n",
       "DUF5438           1\n",
       "Peptidase_C36     1\n",
       "Cm_res_leader     1\n",
       "Adeno_E1A         1\n",
       "N-Term_TEN        1\n",
       "N36               1\n",
       "Adeno_E3A         1\n",
       "Adeno_E3B         1\n",
       "Adeno_E3_14_5     1\n",
       "Adeno_E3_15_3     1\n",
       "Adeno_E4          1\n",
       "Adeno_E4_34       1\n",
       "Adeno_E4_ORF3     1\n",
       "Adeno_PIX         1\n",
       "Adeno_PV          1\n",
       "DUF5422           1\n",
       "Adeno_knob        1\n",
       "DUF5423           1\n",
       "Peptidase_C41     1\n",
       "Chlam_OMP3        1\n",
       "DUF5479           1\n",
       "TrbE              1\n",
       "DUF5480           1\n",
       "DUF5483           1\n",
       "DUF5505           1\n",
       "DUF5506           1\n",
       "DUF5507           1\n",
       "DUF5508           1\n",
       "DUF5509           1\n",
       "DUF5510           1\n",
       "UK                1\n",
       "UL16              1\n",
       "HHV-5_US34A       1\n",
       "DUF5511           1\n",
       "DUF5512           1\n",
       "HEV_ORF1          1\n",
       "UL2               1\n",
       "DUF5513           1\n",
       "dtype: int64"
      ]
     },
     "execution_count": 18,
     "metadata": {
      "tags": []
     },
     "output_type": "execute_result"
    }
   ],
   "source": [
    "all_data.groupby('family_id').size().sort_values(ascending=True).head(60) "
   ]
  },
  {
   "cell_type": "code",
   "execution_count": null,
   "metadata": {
    "colab": {
     "base_uri": "https://localhost:8080/",
     "height": 851
    },
    "id": "350W0pZExsvb",
    "outputId": "e6be6e0b-e7b8-49bb-858d-bc00c005b76d"
   },
   "outputs": [
    {
     "data": {
      "image/png": "[encoded data removed]",
      "text/plain": [
       "<Figure size 432x288 with 1 Axes>"
      ]
     },
     "metadata": {
      "needs_background": "light",
      "tags": []
     },
     "output_type": "display_data"
    },
    {
     "data": {
      "image/png": "[encoded data removed]",
      "text/plain": [
       "<Figure size 432x288 with 1 Axes>"
      ]
     },
     "metadata": {
      "needs_background": "light",
      "tags": []
     },
     "output_type": "display_data"
    },
    {
     "data": {
      "image/png": "[encoded data removed]",
      "text/plain": [
       "<Figure size 432x288 with 1 Axes>"
      ]
     },
     "metadata": {
      "needs_background": "light",
      "tags": []
     },
     "output_type": "display_data"
    }
   ],
   "source": [
    "for title, partition in partitions.items():\n",
    "    partition.groupby('family_id').size().hist(bins=50)\n",
    "    plt.title('Distribution of family sizes for %s' % title)\n",
    "    plt.ylabel('# Families')\n",
    "    plt.xlabel('Family size')\n",
    "    plt.show()"
   ]
  },
  {
   "cell_type": "markdown",
   "metadata": {
    "id": "GgqL3TU0xsve"
   },
   "source": [
    "\n",
    "Above distribution of family sizes plot shows that the greater the family size lesser the no. of the same.\n"
   ]
  },
  {
   "cell_type": "code",
   "execution_count": null,
   "metadata": {
    "colab": {
     "base_uri": "https://localhost:8080/",
     "height": 109
    },
    "id": "GI1nhOi-xsvf",
    "outputId": "ed86e11c-a136-45e4-e0d7-5298f94a7833"
   },
   "outputs": [
    {
     "data": {
      "text/plain": [
       "count             1339083\n",
       "unique              17929\n",
       "top       Methyltransf_25\n",
       "freq                 4545\n",
       "Name: family_id, dtype: object"
      ]
     },
     "execution_count": 22,
     "metadata": {
      "tags": []
     },
     "output_type": "execute_result"
    }
   ],
   "source": [
    "all_data.family_id.describe()"
   ]
  },
  {
   "cell_type": "markdown",
   "metadata": {
    "id": "sJZZXetoxsvk"
   },
   "source": [
    " Family 'Methyltransf_25' has occurred highest nummer"
   ]
  },
  {
   "cell_type": "code",
   "execution_count": null,
   "metadata": {
    "colab": {
     "base_uri": "https://localhost:8080/",
     "height": 239
    },
    "id": "ugQmojmdxsvl",
    "outputId": "8040fc01-33ac-49d8-8427-765dcde7cd58"
   },
   "outputs": [
    {
     "data": {
      "text/plain": [
       "family_id\n",
       "Methyltransf_25    4545\n",
       "LRR_1              2407\n",
       "Acetyltransf_7     2199\n",
       "His_kinase         1921\n",
       "Bac_transf         1908\n",
       "Lum_binding        1878\n",
       "DNA_binding_1      1681\n",
       "Chromate_transp    1579\n",
       "Lipase_GDSL_2      1564\n",
       "DnaJ_CXXCXGXG      1512\n",
       "dtype: int64"
      ]
     },
     "execution_count": 24,
     "metadata": {
      "tags": []
     },
     "output_type": "execute_result"
    }
   ],
   "source": [
    "all_data.groupby('family_id').size().sort_values(ascending=False).head(10)"
   ]
  },
  {
   "cell_type": "code",
   "execution_count": null,
   "metadata": {
    "id": "WJQ_yKTaxsvo"
   },
   "outputs": [],
   "source": [
    "# Number of letters in each sequence\n",
    "all_data['sequence_length'] = all_data.sequence.str.len()"
   ]
  },
  {
   "cell_type": "code",
   "execution_count": null,
   "metadata": {
    "colab": {
     "base_uri": "https://localhost:8080/",
     "height": 424
    },
    "id": "R-SahOt1xsvq",
    "outputId": "1d7a4d93-1a11-4d80-e51c-4a9c4348b925"
   },
   "outputs": [
    {
     "data": {
      "text/html": [
       "<div>\n",
       "<style scoped>\n",
       "    .dataframe tbody tr th:only-of-type {\n",
       "        vertical-align: middle;\n",
       "    }\n",
       "\n",
       "    .dataframe tbody tr th {\n",
       "        vertical-align: top;\n",
       "    }\n",
       "\n",
       "    .dataframe thead th {\n",
       "        text-align: right;\n",
       "    }\n",
       "</style>\n",
       "<table border=\"1\" class=\"dataframe\">\n",
       "  <thead>\n",
       "    <tr style=\"text-align: right;\">\n",
       "      <th></th>\n",
       "      <th>family_id</th>\n",
       "      <th>sequence_name</th>\n",
       "      <th>family_accession</th>\n",
       "      <th>sequence</th>\n",
       "      <th>sequence_length</th>\n",
       "    </tr>\n",
       "  </thead>\n",
       "  <tbody>\n",
       "    <tr>\n",
       "      <th>0</th>\n",
       "      <td>GNAT_acetyltran</td>\n",
       "      <td>R6RQF6_9CLOT/17-251</td>\n",
       "      <td>PF12746.7</td>\n",
       "      <td>AFLFSGRREVMADACLQGMMGCVYGTAGGMDSAAAVLGDFCFLAGK...</td>\n",
       "      <td>235</td>\n",
       "    </tr>\n",
       "    <tr>\n",
       "      <th>1</th>\n",
       "      <td>MoaC</td>\n",
       "      <td>W5NKR5_LEPOC/505-640</td>\n",
       "      <td>PF01967.21</td>\n",
       "      <td>MVDVGGKPVSRRTAAASATVLLGEKAFWLVKENQLAKGDALAVAQI...</td>\n",
       "      <td>136</td>\n",
       "    </tr>\n",
       "    <tr>\n",
       "      <th>2</th>\n",
       "      <td>Methyltransf_25</td>\n",
       "      <td>C0QLU8_DESAH/50-147</td>\n",
       "      <td>PF13649.6</td>\n",
       "      <td>VLDVACGTCDVAMEARNQTGDAAFIIGTDFSPGMLTLGLQKLKKNR...</td>\n",
       "      <td>98</td>\n",
       "    </tr>\n",
       "    <tr>\n",
       "      <th>3</th>\n",
       "      <td>EMG1</td>\n",
       "      <td>T1G7Q2_HELRO/22-222</td>\n",
       "      <td>PF03587.14</td>\n",
       "      <td>VVLERASLESVKVGKEYQLLNCDRHKGIAKKFKRDISTCRPDITHQ...</td>\n",
       "      <td>201</td>\n",
       "    </tr>\n",
       "    <tr>\n",
       "      <th>4</th>\n",
       "      <td>Glyco_hydro_30C</td>\n",
       "      <td>C6VRM9_DYAFD/453-540</td>\n",
       "      <td>PF17189.4</td>\n",
       "      <td>GAVRVDVSGGLGTDAMVVSSYLNTDKSLVTVIVNADNQDRDISLAI...</td>\n",
       "      <td>88</td>\n",
       "    </tr>\n",
       "    <tr>\n",
       "      <th>...</th>\n",
       "      <td>...</td>\n",
       "      <td>...</td>\n",
       "      <td>...</td>\n",
       "      <td>...</td>\n",
       "      <td>...</td>\n",
       "    </tr>\n",
       "    <tr>\n",
       "      <th>13510</th>\n",
       "      <td>DUF4276</td>\n",
       "      <td>B1Y1D3_LEPCP/11-206</td>\n",
       "      <td>PF14103.6</td>\n",
       "      <td>VEEPSMEAFLHALLPRLMPARRTFEIHPFQGKDDLMAKLEARLRAY...</td>\n",
       "      <td>196</td>\n",
       "    </tr>\n",
       "    <tr>\n",
       "      <th>13511</th>\n",
       "      <td>Lipoprotein_3</td>\n",
       "      <td>Y645_MYCPN/25-108</td>\n",
       "      <td>PF00938.17</td>\n",
       "      <td>AATQVISSLSSAQKYFESSQGELNKKNVIKILKEGYESDANKAVHA...</td>\n",
       "      <td>84</td>\n",
       "    </tr>\n",
       "    <tr>\n",
       "      <th>13512</th>\n",
       "      <td>Ribosomal_S6</td>\n",
       "      <td>I4DCK0_DESAJ/3-92</td>\n",
       "      <td>PF01250.17</td>\n",
       "      <td>AYEILYIIRPDMDEEATNALVDRLSGLAASNGGQNVTVDKWGKRRL...</td>\n",
       "      <td>90</td>\n",
       "    </tr>\n",
       "    <tr>\n",
       "      <th>13513</th>\n",
       "      <td>Sterile</td>\n",
       "      <td>K7J1J9_NASVI/384-476</td>\n",
       "      <td>PF03015.19</td>\n",
       "      <td>LDYVPALVADLLAVLHGNAPDSWALLRESMGDMCRLHRFSSGNWRI...</td>\n",
       "      <td>93</td>\n",
       "    </tr>\n",
       "    <tr>\n",
       "      <th>13514</th>\n",
       "      <td>Alkyl_sulf_dimr</td>\n",
       "      <td>A7HQ20_PARL1/362-499</td>\n",
       "      <td>PF14863.6</td>\n",
       "      <td>TPLEIAEELTLPPTLASEWYTRGYYGTLNHNAKAVYQRYLGWFDGN...</td>\n",
       "      <td>138</td>\n",
       "    </tr>\n",
       "  </tbody>\n",
       "</table>\n",
       "<p>1339083 rows × 5 columns</p>\n",
       "</div>"
      ],
      "text/plain": [
       "             family_id  ... sequence_length\n",
       "0      GNAT_acetyltran  ...             235\n",
       "1                 MoaC  ...             136\n",
       "2      Methyltransf_25  ...              98\n",
       "3                 EMG1  ...             201\n",
       "4      Glyco_hydro_30C  ...              88\n",
       "...                ...  ...             ...\n",
       "13510          DUF4276  ...             196\n",
       "13511    Lipoprotein_3  ...              84\n",
       "13512     Ribosomal_S6  ...              90\n",
       "13513          Sterile  ...              93\n",
       "13514  Alkyl_sulf_dimr  ...             138\n",
       "\n",
       "[1339083 rows x 5 columns]"
      ]
     },
     "execution_count": 30,
     "metadata": {
      "tags": []
     },
     "output_type": "execute_result"
    }
   ],
   "source": [
    "all_data"
   ]
  },
  {
   "cell_type": "code",
   "execution_count": null,
   "metadata": {
    "colab": {
     "base_uri": "https://localhost:8080/",
     "height": 424
    },
    "id": "2_lksoGjxsvu",
    "outputId": "00011fe2-286c-47e0-928d-6e04eedddf8c"
   },
   "outputs": [
    {
     "data": {
      "text/html": [
       "<div>\n",
       "<style scoped>\n",
       "    .dataframe tbody tr th:only-of-type {\n",
       "        vertical-align: middle;\n",
       "    }\n",
       "\n",
       "    .dataframe tbody tr th {\n",
       "        vertical-align: top;\n",
       "    }\n",
       "\n",
       "    .dataframe thead th {\n",
       "        text-align: right;\n",
       "    }\n",
       "</style>\n",
       "<table border=\"1\" class=\"dataframe\">\n",
       "  <thead>\n",
       "    <tr style=\"text-align: right;\">\n",
       "      <th></th>\n",
       "      <th>family_id</th>\n",
       "      <th>sequence_name</th>\n",
       "      <th>family_accession</th>\n",
       "      <th>sequence</th>\n",
       "      <th>sequence_length</th>\n",
       "    </tr>\n",
       "  </thead>\n",
       "  <tbody>\n",
       "    <tr>\n",
       "      <th>2</th>\n",
       "      <td>Methyltransf_25</td>\n",
       "      <td>C0QLU8_DESAH/50-147</td>\n",
       "      <td>PF13649.6</td>\n",
       "      <td>VLDVACGTCDVAMEARNQTGDAAFIIGTDFSPGMLTLGLQKLKKNR...</td>\n",
       "      <td>98</td>\n",
       "    </tr>\n",
       "    <tr>\n",
       "      <th>35</th>\n",
       "      <td>DNA_binding_1</td>\n",
       "      <td>Q7UU90_RHOBA/63-138</td>\n",
       "      <td>PF01035.20</td>\n",
       "      <td>MRTAFVRTIEELRPGEVVSYGDVAARAGYPRRHRAVGQLLGASFDA...</td>\n",
       "      <td>76</td>\n",
       "    </tr>\n",
       "    <tr>\n",
       "      <th>120</th>\n",
       "      <td>Methyltransf_25</td>\n",
       "      <td>R5XZC5_9PROT/345-436</td>\n",
       "      <td>PF13649.6</td>\n",
       "      <td>ILDLGCGTGLCAEALRAYFPNEEFFGVDVSEKMLEFAGKKNVYKEL...</td>\n",
       "      <td>92</td>\n",
       "    </tr>\n",
       "    <tr>\n",
       "      <th>147</th>\n",
       "      <td>His_kinase</td>\n",
       "      <td>D9R4C7_CLOSW/291-370</td>\n",
       "      <td>PF06580.13</td>\n",
       "      <td>AQLQLIKSQLNPHFLFNTLNMITRMAQMEEAPVTEEMLVAISNLLR...</td>\n",
       "      <td>80</td>\n",
       "    </tr>\n",
       "    <tr>\n",
       "      <th>148</th>\n",
       "      <td>Acetyltransf_7</td>\n",
       "      <td>L7W881_NONDD/44-129</td>\n",
       "      <td>PF13508.7</td>\n",
       "      <td>GLQHVIVAYLNDVAVGCGALRPFDKETMEVKRMFTLVDYRGKGIAS...</td>\n",
       "      <td>86</td>\n",
       "    </tr>\n",
       "    <tr>\n",
       "      <th>...</th>\n",
       "      <td>...</td>\n",
       "      <td>...</td>\n",
       "      <td>...</td>\n",
       "      <td>...</td>\n",
       "      <td>...</td>\n",
       "    </tr>\n",
       "    <tr>\n",
       "      <th>13338</th>\n",
       "      <td>Methyltransf_25</td>\n",
       "      <td>I2FZ93_USTH4/43-146</td>\n",
       "      <td>PF13649.6</td>\n",
       "      <td>ILDYGCGSGEITLDLATIVGPDGEVTGLDASDDMIIKACNLHASHP...</td>\n",
       "      <td>104</td>\n",
       "    </tr>\n",
       "    <tr>\n",
       "      <th>13339</th>\n",
       "      <td>His_kinase</td>\n",
       "      <td>C0Z9T0_BREBN/333-412</td>\n",
       "      <td>PF06580.13</td>\n",
       "      <td>AELRAVHYQINPHLLFNTLNSIQWKARLSGANEIGNMLYHLIKVLE...</td>\n",
       "      <td>80</td>\n",
       "    </tr>\n",
       "    <tr>\n",
       "      <th>13383</th>\n",
       "      <td>Methyltransf_25</td>\n",
       "      <td>F0YGD9_AURAN/710-812</td>\n",
       "      <td>PF13649.6</td>\n",
       "      <td>ILELGSGGGRDAVELARSRVGIDFVGVDGSAGMCGLAAARAEQRKV...</td>\n",
       "      <td>103</td>\n",
       "    </tr>\n",
       "    <tr>\n",
       "      <th>13455</th>\n",
       "      <td>Lum_binding</td>\n",
       "      <td>A4S0H5_OSTLU/101-187</td>\n",
       "      <td>PF00677.17</td>\n",
       "      <td>SGHVHCTAEIVEVVDSEHNRKVVFETSDRALIKYVLPKGFIAIDGC...</td>\n",
       "      <td>87</td>\n",
       "    </tr>\n",
       "    <tr>\n",
       "      <th>13459</th>\n",
       "      <td>LRR_1</td>\n",
       "      <td>Q9PVN9_ONCMA/127-147</td>\n",
       "      <td>PF00560.33</td>\n",
       "      <td>KLSHLTICNTGLRVLPNFSRI</td>\n",
       "      <td>21</td>\n",
       "    </tr>\n",
       "  </tbody>\n",
       "</table>\n",
       "<p>21194 rows × 5 columns</p>\n",
       "</div>"
      ],
      "text/plain": [
       "             family_id  ... sequence_length\n",
       "2      Methyltransf_25  ...              98\n",
       "35       DNA_binding_1  ...              76\n",
       "120    Methyltransf_25  ...              92\n",
       "147         His_kinase  ...              80\n",
       "148     Acetyltransf_7  ...              86\n",
       "...                ...  ...             ...\n",
       "13338  Methyltransf_25  ...             104\n",
       "13339       His_kinase  ...              80\n",
       "13383  Methyltransf_25  ...             103\n",
       "13455      Lum_binding  ...              87\n",
       "13459            LRR_1  ...              21\n",
       "\n",
       "[21194 rows x 5 columns]"
      ]
     },
     "execution_count": 31,
     "metadata": {
      "tags": []
     },
     "output_type": "execute_result"
    }
   ],
   "source": [
    "## Following code creat a dataframe containing top 10 no (size) of sequence name\n",
    "# Source https://stackoverflow.com/a/27975230\n",
    "# Source https://stackoverflow.com/a/19170098\n",
    "# Source https://pythonspot.com/pandas-filter/\n",
    "# Source https://www.w3schools.com/python/python_regex.asp\n",
    "\n",
    "top_size_seq1 = pd.DataFrame(all_data[all_data.family_id.str.contains(\"Methyltransf_25|Acetyltransf_7|His_kinase|Bac_transf|Lum_binding|DNA_binding_1|Chromate_transp|Lipase_GDSL_2|DnaJ_CXXCXGXG|LRR_1$\")])\n",
    "top_size_seq1"
   ]
  },
  {
   "cell_type": "code",
   "execution_count": null,
   "metadata": {
    "colab": {
     "base_uri": "https://localhost:8080/",
     "height": 933
    },
    "id": "I4UvXvqBxsvw",
    "outputId": "5b83438d-e1eb-4fee-ed60-5cf18aee50bb"
   },
   "outputs": [
    {
     "data": {
      "image/png": "[encoded data removed]",
      "text/plain": [
       "<Figure size 1440x1152 with 1 Axes>"
      ]
     },
     "metadata": {
      "needs_background": "light",
      "tags": []
     },
     "output_type": "display_data"
    }
   ],
   "source": [
    "# violin plot\n",
    "# Source https://stackoverflow.com/a/50671064\n",
    "# Source https://seaborn.pydata.org/generated/seaborn.violinplot.html \n",
    "\n",
    "plt.figure(figsize=(20,16))# SIZE OF THE PLOT\n",
    "ax = sns.violinplot(x = 'family_id', y = 'sequence_length', data = top_size_seq1,scale=\"width\")\n",
    "ax.set_yticks(np.arange(10, 330, 5)) # Scale of the gride i.e. starting range, max range, difference respectively\n",
    "plt.grid()"
   ]
  },
  {
   "cell_type": "markdown",
   "metadata": {
    "id": "z0jPwLYtxsvz"
   },
   "source": [
    "From the above plot, 'Lipase_GDSL_2' has most of the largest number of the longest protein sequence and on the other hand 'LRR_1' (Leucine Rich Repeat Protein 1) has the shotest length in amino acid as compare to others.\n",
    "\n",
    "# A small explanation  on Methyltransf_25"
   ]
  },
  {
   "cell_type": "code",
   "execution_count": null,
   "metadata": {
    "colab": {
     "base_uri": "https://localhost:8080/",
     "height": 300
    },
    "id": "0y4G0fezxsvz",
    "outputId": "5aaa224d-d35f-4a30-9564-87bb1fa1a931"
   },
   "outputs": [
    {
     "data": {
      "text/html": [
       "<div>\n",
       "<style scoped>\n",
       "    .dataframe tbody tr th:only-of-type {\n",
       "        vertical-align: middle;\n",
       "    }\n",
       "\n",
       "    .dataframe tbody tr th {\n",
       "        vertical-align: top;\n",
       "    }\n",
       "\n",
       "    .dataframe thead th {\n",
       "        text-align: right;\n",
       "    }\n",
       "</style>\n",
       "<table border=\"1\" class=\"dataframe\">\n",
       "  <thead>\n",
       "    <tr style=\"text-align: right;\">\n",
       "      <th></th>\n",
       "      <th>sequence_length</th>\n",
       "    </tr>\n",
       "  </thead>\n",
       "  <tbody>\n",
       "    <tr>\n",
       "      <th>count</th>\n",
       "      <td>4545.000000</td>\n",
       "    </tr>\n",
       "    <tr>\n",
       "      <th>mean</th>\n",
       "      <td>94.779758</td>\n",
       "    </tr>\n",
       "    <tr>\n",
       "      <th>std</th>\n",
       "      <td>4.029942</td>\n",
       "    </tr>\n",
       "    <tr>\n",
       "      <th>min</th>\n",
       "      <td>77.000000</td>\n",
       "    </tr>\n",
       "    <tr>\n",
       "      <th>25%</th>\n",
       "      <td>92.000000</td>\n",
       "    </tr>\n",
       "    <tr>\n",
       "      <th>50%</th>\n",
       "      <td>95.000000</td>\n",
       "    </tr>\n",
       "    <tr>\n",
       "      <th>75%</th>\n",
       "      <td>97.000000</td>\n",
       "    </tr>\n",
       "    <tr>\n",
       "      <th>max</th>\n",
       "      <td>114.000000</td>\n",
       "    </tr>\n",
       "  </tbody>\n",
       "</table>\n",
       "</div>"
      ],
      "text/plain": [
       "       sequence_length\n",
       "count      4545.000000\n",
       "mean         94.779758\n",
       "std           4.029942\n",
       "min          77.000000\n",
       "25%          92.000000\n",
       "50%          95.000000\n",
       "75%          97.000000\n",
       "max         114.000000"
      ]
     },
     "execution_count": 36,
     "metadata": {
      "tags": []
     },
     "output_type": "execute_result"
    }
   ],
   "source": [
    "all_data[all_data.family_id.str.contains(\"Methyltransf_25\")].describe()"
   ]
  },
  {
   "cell_type": "markdown",
   "metadata": {
    "id": "_KxxsUnUxsv1"
   },
   "source": [
    " Family id 'Methyltransf_25' has the heightest number of sequence having range 77 to 114 and average is 95 in length (no. of amino acids) . "
   ]
  },
  {
   "cell_type": "code",
   "execution_count": null,
   "metadata": {
    "colab": {
     "base_uri": "https://localhost:8080/",
     "height": 424
    },
    "id": "HyMB1cNBxsv2",
    "outputId": "6d5fbbad-3824-4fd3-8db2-f75dcbb55006"
   },
   "outputs": [
    {
     "data": {
      "text/html": [
       "<div>\n",
       "<style scoped>\n",
       "    .dataframe tbody tr th:only-of-type {\n",
       "        vertical-align: middle;\n",
       "    }\n",
       "\n",
       "    .dataframe tbody tr th {\n",
       "        vertical-align: top;\n",
       "    }\n",
       "\n",
       "    .dataframe thead th {\n",
       "        text-align: right;\n",
       "    }\n",
       "</style>\n",
       "<table border=\"1\" class=\"dataframe\">\n",
       "  <thead>\n",
       "    <tr style=\"text-align: right;\">\n",
       "      <th></th>\n",
       "      <th>family_id</th>\n",
       "      <th>sequence_name</th>\n",
       "      <th>family_accession</th>\n",
       "      <th>sequence</th>\n",
       "      <th>sequence_length</th>\n",
       "    </tr>\n",
       "  </thead>\n",
       "  <tbody>\n",
       "    <tr>\n",
       "      <th>8189</th>\n",
       "      <td>Arena_RNA_pol</td>\n",
       "      <td>L_LASSJ/178-2214</td>\n",
       "      <td>PF06317.11</td>\n",
       "      <td>FEESEYSRLCESLFMTSGRLSGVESLNVLMDNRSNHYEEVIASCHQ...</td>\n",
       "      <td>2037</td>\n",
       "    </tr>\n",
       "    <tr>\n",
       "      <th>9930</th>\n",
       "      <td>Arena_RNA_pol</td>\n",
       "      <td>L_LYCVA/178-2207</td>\n",
       "      <td>PF06317.11</td>\n",
       "      <td>FEESEYFRLCESLKTTIDKRSGMDSMKILKDARSTHNDEIMRMCHE...</td>\n",
       "      <td>2030</td>\n",
       "    </tr>\n",
       "    <tr>\n",
       "      <th>8746</th>\n",
       "      <td>Arena_RNA_pol</td>\n",
       "      <td>L_TACVF/179-2207</td>\n",
       "      <td>PF06317.11</td>\n",
       "      <td>IEDQEYQRLIHSLSNVRNQSLGFENIECLKRNLLEYDDRLAKSLFV...</td>\n",
       "      <td>2029</td>\n",
       "    </tr>\n",
       "    <tr>\n",
       "      <th>11230</th>\n",
       "      <td>GREB1</td>\n",
       "      <td>C3Y162_BRAFL/57-2028</td>\n",
       "      <td>PF15782.5</td>\n",
       "      <td>MGNTHGQLKSSRFEAALHSSIEQSLRSQDVAPRPVFSQLYLDKQQG...</td>\n",
       "      <td>1972</td>\n",
       "    </tr>\n",
       "    <tr>\n",
       "      <th>9434</th>\n",
       "      <td>GREB1</td>\n",
       "      <td>I3KKK4_ORENI/1-1971</td>\n",
       "      <td>PF15782.5</td>\n",
       "      <td>MGNSYAGQLRTTRFEEVLHNSIEASLRSNTIIPRPVFSQLYLETEQ...</td>\n",
       "      <td>1971</td>\n",
       "    </tr>\n",
       "    <tr>\n",
       "      <th>...</th>\n",
       "      <td>...</td>\n",
       "      <td>...</td>\n",
       "      <td>...</td>\n",
       "      <td>...</td>\n",
       "      <td>...</td>\n",
       "    </tr>\n",
       "    <tr>\n",
       "      <th>10446</th>\n",
       "      <td>Octapeptide</td>\n",
       "      <td>SPA_STAA8/326-333</td>\n",
       "      <td>PF03373.14</td>\n",
       "      <td>PKEEDNNK</td>\n",
       "      <td>8</td>\n",
       "    </tr>\n",
       "    <tr>\n",
       "      <th>10174</th>\n",
       "      <td>WWamide</td>\n",
       "      <td>WWA1_ACHFU/1-7</td>\n",
       "      <td>PF08258.11</td>\n",
       "      <td>WREMSVW</td>\n",
       "      <td>7</td>\n",
       "    </tr>\n",
       "    <tr>\n",
       "      <th>844</th>\n",
       "      <td>WWamide</td>\n",
       "      <td>WWA2_ACHFU/1-7</td>\n",
       "      <td>PF08258.11</td>\n",
       "      <td>WKQMSVW</td>\n",
       "      <td>7</td>\n",
       "    </tr>\n",
       "    <tr>\n",
       "      <th>2327</th>\n",
       "      <td>DNA_pol_lambd_f</td>\n",
       "      <td>F1SE21_PIG/22-27</td>\n",
       "      <td>PF10391.9</td>\n",
       "      <td>VTGVAG</td>\n",
       "      <td>6</td>\n",
       "    </tr>\n",
       "    <tr>\n",
       "      <th>4901</th>\n",
       "      <td>DUF4744</td>\n",
       "      <td>B5DLN4_DROPS/115-118</td>\n",
       "      <td>PF15918.5</td>\n",
       "      <td>TATK</td>\n",
       "      <td>4</td>\n",
       "    </tr>\n",
       "  </tbody>\n",
       "</table>\n",
       "<p>1339083 rows × 5 columns</p>\n",
       "</div>"
      ],
      "text/plain": [
       "             family_id  ... sequence_length\n",
       "8189     Arena_RNA_pol  ...            2037\n",
       "9930     Arena_RNA_pol  ...            2030\n",
       "8746     Arena_RNA_pol  ...            2029\n",
       "11230            GREB1  ...            1972\n",
       "9434             GREB1  ...            1971\n",
       "...                ...  ...             ...\n",
       "10446      Octapeptide  ...               8\n",
       "10174          WWamide  ...               7\n",
       "844            WWamide  ...               7\n",
       "2327   DNA_pol_lambd_f  ...               6\n",
       "4901           DUF4744  ...               4\n",
       "\n",
       "[1339083 rows x 5 columns]"
      ]
     },
     "execution_count": 37,
     "metadata": {
      "tags": []
     },
     "output_type": "execute_result"
    }
   ],
   "source": [
    "all_data.sort_values([\"sequence_length\"], axis=0, ascending=False) # Descending order of sequence length"
   ]
  },
  {
   "cell_type": "code",
   "execution_count": null,
   "metadata": {
    "colab": {
     "base_uri": "https://localhost:8080/",
     "height": 183
    },
    "id": "394lS675xsv5",
    "outputId": "8ffde6f9-5e26-41d7-d645-3fd1d9d8da7d"
   },
   "outputs": [
    {
     "data": {
      "text/plain": [
       "count    1.339083e+06\n",
       "mean     1.551566e+02\n",
       "std      1.197877e+02\n",
       "min      4.000000e+00\n",
       "25%      7.600000e+01\n",
       "50%      1.190000e+02\n",
       "75%      1.950000e+02\n",
       "max      2.037000e+03\n",
       "Name: sequence_length, dtype: float64"
      ]
     },
     "execution_count": 38,
     "metadata": {
      "tags": []
     },
     "output_type": "execute_result"
    }
   ],
   "source": [
    "all_data.sequence_length.describe()"
   ]
  },
  {
   "cell_type": "markdown",
   "metadata": {
    "id": "CIxMTQNDxsv7"
   },
   "source": [
    "Family ID 'Arena_RNA_pol' has the longest sequence length of 2037 and the minimum number of amino acid (length) is 4, however average length is approx 155 amino acids long"
   ]
  },
  {
   "cell_type": "code",
   "execution_count": null,
   "metadata": {
    "colab": {
     "base_uri": "https://localhost:8080/",
     "height": 81
    },
    "id": "rb2EPV6bxsv8",
    "outputId": "6e71e5c8-af0c-4942-b81c-01c217e79af4"
   },
   "outputs": [
    {
     "data": {
      "text/html": [
       "<div>\n",
       "<style scoped>\n",
       "    .dataframe tbody tr th:only-of-type {\n",
       "        vertical-align: middle;\n",
       "    }\n",
       "\n",
       "    .dataframe tbody tr th {\n",
       "        vertical-align: top;\n",
       "    }\n",
       "\n",
       "    .dataframe thead th {\n",
       "        text-align: right;\n",
       "    }\n",
       "</style>\n",
       "<table border=\"1\" class=\"dataframe\">\n",
       "  <thead>\n",
       "    <tr style=\"text-align: right;\">\n",
       "      <th></th>\n",
       "      <th>family_id</th>\n",
       "      <th>sequence_name</th>\n",
       "      <th>family_accession</th>\n",
       "      <th>sequence</th>\n",
       "      <th>sequence_length</th>\n",
       "    </tr>\n",
       "  </thead>\n",
       "  <tbody>\n",
       "    <tr>\n",
       "      <th>4901</th>\n",
       "      <td>DUF4744</td>\n",
       "      <td>B5DLN4_DROPS/115-118</td>\n",
       "      <td>PF15918.5</td>\n",
       "      <td>TATK</td>\n",
       "      <td>4</td>\n",
       "    </tr>\n",
       "  </tbody>\n",
       "</table>\n",
       "</div>"
      ],
      "text/plain": [
       "     family_id         sequence_name family_accession sequence  sequence_length\n",
       "4901   DUF4744  B5DLN4_DROPS/115-118        PF15918.5     TATK                4"
      ]
     },
     "execution_count": 40,
     "metadata": {
      "tags": []
     },
     "output_type": "execute_result"
    }
   ],
   "source": [
    "# Source https://pandas.pydata.org/pandas-docs/stable/reference/api/pandas.DataFrame.query.html\n",
    "all_data[all_data.sequence_length==4]"
   ]
  },
  {
   "cell_type": "markdown",
   "metadata": {
    "id": "F43LA3pbxsv-"
   },
   "source": [
    "Only one protein family has 4 length of amino acid in whole file."
   ]
  },
  {
   "cell_type": "markdown",
   "metadata": {
    "id": "yFzxgewb9buE"
   },
   "source": [
    "### EDA on Methyltransf_25"
   ]
  },
  {
   "cell_type": "code",
   "execution_count": null,
   "metadata": {
    "colab": {
     "base_uri": "https://localhost:8080/",
     "height": 424
    },
    "id": "y6a6QVD6xsv_",
    "outputId": "1c5938ae-1205-45ec-e5b5-fda34527da80"
   },
   "outputs": [
    {
     "data": {
      "text/html": [
       "<div>\n",
       "<style scoped>\n",
       "    .dataframe tbody tr th:only-of-type {\n",
       "        vertical-align: middle;\n",
       "    }\n",
       "\n",
       "    .dataframe tbody tr th {\n",
       "        vertical-align: top;\n",
       "    }\n",
       "\n",
       "    .dataframe thead th {\n",
       "        text-align: right;\n",
       "    }\n",
       "</style>\n",
       "<table border=\"1\" class=\"dataframe\">\n",
       "  <thead>\n",
       "    <tr style=\"text-align: right;\">\n",
       "      <th></th>\n",
       "      <th>family_id</th>\n",
       "      <th>sequence_name</th>\n",
       "      <th>family_accession</th>\n",
       "      <th>sequence</th>\n",
       "      <th>sequence_length</th>\n",
       "    </tr>\n",
       "  </thead>\n",
       "  <tbody>\n",
       "    <tr>\n",
       "      <th>2</th>\n",
       "      <td>Methyltransf_25</td>\n",
       "      <td>C0QLU8_DESAH/50-147</td>\n",
       "      <td>PF13649.6</td>\n",
       "      <td>VLDVACGTCDVAMEARNQTGDAAFIIGTDFSPGMLTLGLQKLKKNR...</td>\n",
       "      <td>98</td>\n",
       "    </tr>\n",
       "    <tr>\n",
       "      <th>120</th>\n",
       "      <td>Methyltransf_25</td>\n",
       "      <td>R5XZC5_9PROT/345-436</td>\n",
       "      <td>PF13649.6</td>\n",
       "      <td>ILDLGCGTGLCAEALRAYFPNEEFFGVDVSEKMLEFAGKKNVYKEL...</td>\n",
       "      <td>92</td>\n",
       "    </tr>\n",
       "    <tr>\n",
       "      <th>479</th>\n",
       "      <td>Methyltransf_25</td>\n",
       "      <td>R6Z571_9FIRM/47-138</td>\n",
       "      <td>PF13649.6</td>\n",
       "      <td>VLDLGCGFGEHCMRCIRQGAEKVVGIDISEKMLEVARKENSDARIT...</td>\n",
       "      <td>92</td>\n",
       "    </tr>\n",
       "    <tr>\n",
       "      <th>1150</th>\n",
       "      <td>Methyltransf_25</td>\n",
       "      <td>F4LU06_TEPAE/40-133</td>\n",
       "      <td>PF13649.6</td>\n",
       "      <td>ILDVGTGTGVMIPYIYEMIGDEGEIIAIDLAEKMLEVARQKYPFNN...</td>\n",
       "      <td>94</td>\n",
       "    </tr>\n",
       "    <tr>\n",
       "      <th>1245</th>\n",
       "      <td>Methyltransf_25</td>\n",
       "      <td>R4KE08_9FIRM/34-131</td>\n",
       "      <td>PF13649.6</td>\n",
       "      <td>ALDVACGYGETAIMLASLGVEVVSLGTDPRIVERAKHRAVEAGHNP...</td>\n",
       "      <td>98</td>\n",
       "    </tr>\n",
       "    <tr>\n",
       "      <th>...</th>\n",
       "      <td>...</td>\n",
       "      <td>...</td>\n",
       "      <td>...</td>\n",
       "      <td>...</td>\n",
       "      <td>...</td>\n",
       "    </tr>\n",
       "    <tr>\n",
       "      <th>12511</th>\n",
       "      <td>Methyltransf_25</td>\n",
       "      <td>I6XT35_PSEPQ/229-335</td>\n",
       "      <td>PF13649.6</td>\n",
       "      <td>ILDIGCATGQTLKLLSELPGLFESDFYGVESARPLLEVCQQRRSDG...</td>\n",
       "      <td>107</td>\n",
       "    </tr>\n",
       "    <tr>\n",
       "      <th>13011</th>\n",
       "      <td>Methyltransf_25</td>\n",
       "      <td>A1B7C7_PARDP/24-126</td>\n",
       "      <td>PF13649.6</td>\n",
       "      <td>VLEIGCGPGVAAREVSRRVGNGFVLAIDRSAKAIESAVAGSKAEIA...</td>\n",
       "      <td>103</td>\n",
       "    </tr>\n",
       "    <tr>\n",
       "      <th>13118</th>\n",
       "      <td>Methyltransf_25</td>\n",
       "      <td>I3VUY9_THESW/50-141</td>\n",
       "      <td>PF13649.6</td>\n",
       "      <td>ILEAGIGTGSNILYYPEGKNIYGIDFSPKMVEIAKDKAKRYGKDVD...</td>\n",
       "      <td>92</td>\n",
       "    </tr>\n",
       "    <tr>\n",
       "      <th>13338</th>\n",
       "      <td>Methyltransf_25</td>\n",
       "      <td>I2FZ93_USTH4/43-146</td>\n",
       "      <td>PF13649.6</td>\n",
       "      <td>ILDYGCGSGEITLDLATIVGPDGEVTGLDASDDMIIKACNLHASHP...</td>\n",
       "      <td>104</td>\n",
       "    </tr>\n",
       "    <tr>\n",
       "      <th>13383</th>\n",
       "      <td>Methyltransf_25</td>\n",
       "      <td>F0YGD9_AURAN/710-812</td>\n",
       "      <td>PF13649.6</td>\n",
       "      <td>ILELGSGGGRDAVELARSRVGIDFVGVDGSAGMCGLAAARAEQRKV...</td>\n",
       "      <td>103</td>\n",
       "    </tr>\n",
       "  </tbody>\n",
       "</table>\n",
       "<p>4545 rows × 5 columns</p>\n",
       "</div>"
      ],
      "text/plain": [
       "             family_id  ... sequence_length\n",
       "2      Methyltransf_25  ...              98\n",
       "120    Methyltransf_25  ...              92\n",
       "479    Methyltransf_25  ...              92\n",
       "1150   Methyltransf_25  ...              94\n",
       "1245   Methyltransf_25  ...              98\n",
       "...                ...  ...             ...\n",
       "12511  Methyltransf_25  ...             107\n",
       "13011  Methyltransf_25  ...             103\n",
       "13118  Methyltransf_25  ...              92\n",
       "13338  Methyltransf_25  ...             104\n",
       "13383  Methyltransf_25  ...             103\n",
       "\n",
       "[4545 rows x 5 columns]"
      ]
     },
     "execution_count": 43,
     "metadata": {
      "tags": []
     },
     "output_type": "execute_result"
    }
   ],
   "source": [
    "Methyltransf_25_df = pd.DataFrame(all_data[all_data.family_id.str.contains(\"Methyltransf_25\")])\n",
    "Methyltransf_25_df"
   ]
  },
  {
   "cell_type": "code",
   "execution_count": null,
   "metadata": {
    "colab": {
     "base_uri": "https://localhost:8080/",
     "height": 239
    },
    "id": "F29moexUxswB",
    "outputId": "be294067-e608-4dc0-f983-988d2e7441d2"
   },
   "outputs": [
    {
     "data": {
      "text/plain": [
       "2        13\n",
       "120       9\n",
       "479       5\n",
       "1150      6\n",
       "1245      9\n",
       "         ..\n",
       "12511     6\n",
       "13011    17\n",
       "13118     4\n",
       "13338     8\n",
       "13383    12\n",
       "Name: sequence, Length: 4545, dtype: int64"
      ]
     },
     "execution_count": 44,
     "metadata": {
      "tags": []
     },
     "output_type": "execute_result"
    }
   ],
   "source": [
    "#Methyltransf_25_df.sequence.str.contains(\"A\").count()\n",
    "# https://stackoverflow.com/a/17574265\n",
    "Methyltransf_25_df.sequence.str.count(\"A\")"
   ]
  },
  {
   "cell_type": "code",
   "execution_count": null,
   "metadata": {
    "colab": {
     "base_uri": "https://localhost:8080/",
     "height": 35
    },
    "id": "bTsdL4vtxswE",
    "outputId": "6908a0e6-ed2c-4cae-ba43-a4acccbcb4bb"
   },
   "outputs": [
    {
     "data": {
      "text/plain": [
       "44449"
      ]
     },
     "execution_count": 45,
     "metadata": {
      "tags": []
     },
     "output_type": "execute_result"
    }
   ],
   "source": [
    "# Contains total no. of Alanine in whole Methyltransf_25 protein family fron all file\n",
    "#https://stackoverflow.com/a/17574265\n",
    "Methyltransf_25_df_A = Methyltransf_25_df.sequence.str.count(\"A\").sum() \n",
    "Methyltransf_25_df_A"
   ]
  },
  {
   "cell_type": "code",
   "execution_count": null,
   "metadata": {
    "colab": {
     "base_uri": "https://localhost:8080/",
     "height": 35
    },
    "id": "mcrCljF_xswG",
    "outputId": "45719f1b-cf54-4fb8-e62d-c56ad804d144"
   },
   "outputs": [
    {
     "data": {
      "text/plain": [
       "430774"
      ]
     },
     "execution_count": 46,
     "metadata": {
      "tags": []
     },
     "output_type": "execute_result"
    }
   ],
   "source": [
    "# Contains total no. of protein in whole Methyltransf_25 protein family fron all file\n",
    "#https://stackoverflow.com/a/17574265\n",
    "#https://stackoverflow.com/a/9072937\n",
    "\n",
    "Methyltransf_25_df_tot_prot = Methyltransf_25_df.sequence.str.count(r'[A-Z]').sum()\n",
    "Methyltransf_25_df_tot_prot"
   ]
  },
  {
   "cell_type": "code",
   "execution_count": null,
   "metadata": {
    "colab": {
     "base_uri": "https://localhost:8080/",
     "height": 35
    },
    "id": "E4e2CiwAxswJ",
    "outputId": "6ea24ce9-08ad-4f21-910b-82d1fc23caaa"
   },
   "outputs": [
    {
     "data": {
      "text/plain": [
       "10.318403617674234"
      ]
     },
     "execution_count": 47,
     "metadata": {
      "tags": []
     },
     "output_type": "execute_result"
    }
   ],
   "source": [
    "# Percentage of alanine\n",
    "100*Methyltransf_25_df_A/Methyltransf_25_df_tot_prot"
   ]
  },
  {
   "cell_type": "code",
   "execution_count": null,
   "metadata": {
    "colab": {
     "base_uri": "https://localhost:8080/",
     "height": 35
    },
    "id": "iqzm--xuxswM",
    "outputId": "03eef03d-7159-47f8-9018-3d2b9562e580"
   },
   "outputs": [
    {
     "data": {
      "text/plain": [
       "7.110689131656042"
      ]
     },
     "execution_count": 48,
     "metadata": {
      "tags": []
     },
     "output_type": "execute_result"
    }
   ],
   "source": [
    "# Percentage of Aspartic acid\n",
    "100*Methyltransf_25_df.sequence.str.count(\"D\").sum()/Methyltransf_25_df.sequence.str.count(r'[A-Z]').sum()"
   ]
  },
  {
   "cell_type": "markdown",
   "metadata": {
    "id": "jNeHsMRlxswO"
   },
   "source": [
    "### Percentage of Amino acid in Methyltransf_25"
   ]
  },
  {
   "cell_type": "code",
   "execution_count": null,
   "metadata": {
    "colab": {
     "base_uri": "https://localhost:8080/",
     "height": 677
    },
    "id": "KgzF9rfxxswO",
    "outputId": "bc643874-3652-4ae8-d958-303e1914a49f"
   },
   "outputs": [
    {
     "data": {
      "text/html": [
       "<div>\n",
       "<style scoped>\n",
       "    .dataframe tbody tr th:only-of-type {\n",
       "        vertical-align: middle;\n",
       "    }\n",
       "\n",
       "    .dataframe tbody tr th {\n",
       "        vertical-align: top;\n",
       "    }\n",
       "\n",
       "    .dataframe thead th {\n",
       "        text-align: right;\n",
       "    }\n",
       "</style>\n",
       "<table border=\"1\" class=\"dataframe\">\n",
       "  <thead>\n",
       "    <tr style=\"text-align: right;\">\n",
       "      <th></th>\n",
       "      <th>Amino acid</th>\n",
       "      <th>No. of Amino acid</th>\n",
       "      <th>% of Amino acid</th>\n",
       "    </tr>\n",
       "  </thead>\n",
       "  <tbody>\n",
       "    <tr>\n",
       "      <th>0</th>\n",
       "      <td>A</td>\n",
       "      <td>44449.0</td>\n",
       "      <td>10.318404</td>\n",
       "    </tr>\n",
       "    <tr>\n",
       "      <th>1</th>\n",
       "      <td>C</td>\n",
       "      <td>9148.0</td>\n",
       "      <td>2.123619</td>\n",
       "    </tr>\n",
       "    <tr>\n",
       "      <th>2</th>\n",
       "      <td>D</td>\n",
       "      <td>30631.0</td>\n",
       "      <td>7.110689</td>\n",
       "    </tr>\n",
       "    <tr>\n",
       "      <th>3</th>\n",
       "      <td>E</td>\n",
       "      <td>25108.0</td>\n",
       "      <td>5.828578</td>\n",
       "    </tr>\n",
       "    <tr>\n",
       "      <th>4</th>\n",
       "      <td>F</td>\n",
       "      <td>18447.0</td>\n",
       "      <td>4.282292</td>\n",
       "    </tr>\n",
       "    <tr>\n",
       "      <th>5</th>\n",
       "      <td>G</td>\n",
       "      <td>39650.0</td>\n",
       "      <td>9.204362</td>\n",
       "    </tr>\n",
       "    <tr>\n",
       "      <th>6</th>\n",
       "      <td>H</td>\n",
       "      <td>10610.0</td>\n",
       "      <td>2.463008</td>\n",
       "    </tr>\n",
       "    <tr>\n",
       "      <th>7</th>\n",
       "      <td>I</td>\n",
       "      <td>22959.0</td>\n",
       "      <td>5.329709</td>\n",
       "    </tr>\n",
       "    <tr>\n",
       "      <th>8</th>\n",
       "      <td>K</td>\n",
       "      <td>16599.0</td>\n",
       "      <td>3.853297</td>\n",
       "    </tr>\n",
       "    <tr>\n",
       "      <th>9</th>\n",
       "      <td>L</td>\n",
       "      <td>47003.0</td>\n",
       "      <td>10.911290</td>\n",
       "    </tr>\n",
       "    <tr>\n",
       "      <th>10</th>\n",
       "      <td>M</td>\n",
       "      <td>8853.0</td>\n",
       "      <td>2.055138</td>\n",
       "    </tr>\n",
       "    <tr>\n",
       "      <th>11</th>\n",
       "      <td>N</td>\n",
       "      <td>12983.0</td>\n",
       "      <td>3.013877</td>\n",
       "    </tr>\n",
       "    <tr>\n",
       "      <th>12</th>\n",
       "      <td>P</td>\n",
       "      <td>17884.0</td>\n",
       "      <td>4.151597</td>\n",
       "    </tr>\n",
       "    <tr>\n",
       "      <th>13</th>\n",
       "      <td>Q</td>\n",
       "      <td>12796.0</td>\n",
       "      <td>2.970467</td>\n",
       "    </tr>\n",
       "    <tr>\n",
       "      <th>14</th>\n",
       "      <td>R</td>\n",
       "      <td>24691.0</td>\n",
       "      <td>5.731776</td>\n",
       "    </tr>\n",
       "    <tr>\n",
       "      <th>15</th>\n",
       "      <td>S</td>\n",
       "      <td>22845.0</td>\n",
       "      <td>5.303245</td>\n",
       "    </tr>\n",
       "    <tr>\n",
       "      <th>16</th>\n",
       "      <td>T</td>\n",
       "      <td>18146.0</td>\n",
       "      <td>4.212418</td>\n",
       "    </tr>\n",
       "    <tr>\n",
       "      <th>17</th>\n",
       "      <td>V</td>\n",
       "      <td>34837.0</td>\n",
       "      <td>8.087071</td>\n",
       "    </tr>\n",
       "    <tr>\n",
       "      <th>18</th>\n",
       "      <td>W</td>\n",
       "      <td>3661.0</td>\n",
       "      <td>0.849866</td>\n",
       "    </tr>\n",
       "    <tr>\n",
       "      <th>19</th>\n",
       "      <td>Y</td>\n",
       "      <td>9474.0</td>\n",
       "      <td>2.199297</td>\n",
       "    </tr>\n",
       "  </tbody>\n",
       "</table>\n",
       "</div>"
      ],
      "text/plain": [
       "   Amino acid  No. of Amino acid  % of Amino acid\n",
       "0           A            44449.0        10.318404\n",
       "1           C             9148.0         2.123619\n",
       "2           D            30631.0         7.110689\n",
       "3           E            25108.0         5.828578\n",
       "4           F            18447.0         4.282292\n",
       "5           G            39650.0         9.204362\n",
       "6           H            10610.0         2.463008\n",
       "7           I            22959.0         5.329709\n",
       "8           K            16599.0         3.853297\n",
       "9           L            47003.0        10.911290\n",
       "10          M             8853.0         2.055138\n",
       "11          N            12983.0         3.013877\n",
       "12          P            17884.0         4.151597\n",
       "13          Q            12796.0         2.970467\n",
       "14          R            24691.0         5.731776\n",
       "15          S            22845.0         5.303245\n",
       "16          T            18146.0         4.212418\n",
       "17          V            34837.0         8.087071\n",
       "18          W             3661.0         0.849866\n",
       "19          Y             9474.0         2.199297"
      ]
     },
     "execution_count": 49,
     "metadata": {
      "tags": []
     },
     "output_type": "execute_result"
    }
   ],
   "source": [
    "#Code is about total no. of All the amino acid in whole Methyltransf_25 protein family fron all file\n",
    "##https://python-forum.io/Thread-build-pandas-dataframe-from-a-for-loop\n",
    "import pandas as pd\n",
    "aa = ['A','C','D','E','F','G','H','I','K','L','M','N','P','Q','R','S','T','V','W','Y']\n",
    "dfA = pd.DataFrame({'Amino acid': [], 'No. of Amino acid': [], '% of Amino acid': []})\n",
    "for i in aa:\n",
    "    dfA = dfA.append({'Amino acid': i, 'No. of Amino acid': Methyltransf_25_df.sequence.str.count(i).sum(), \n",
    "                    '% of Amino acid': 100*Methyltransf_25_df.sequence.str.count(i).sum()/\n",
    "                    Methyltransf_25_df.sequence.str.count(r'[A-Z]').sum()}, \n",
    "                   ignore_index=True)\n",
    "dfA"
   ]
  },
  {
   "cell_type": "code",
   "execution_count": null,
   "metadata": {
    "colab": {
     "base_uri": "https://localhost:8080/",
     "height": 810
    },
    "id": "-cQeWnqrxswR",
    "outputId": "076a5d36-6554-4181-f3b5-729f15d6ccfc"
   },
   "outputs": [
    {
     "data": {
      "text/plain": [
       "<matplotlib.axes._subplots.AxesSubplot at 0x7f96d9292470>"
      ]
     },
     "execution_count": 50,
     "metadata": {
      "tags": []
     },
     "output_type": "execute_result"
    },
    {
     "data": {
      "image/png": "[encoded data removed]",
      "text/plain": [
       "<Figure size 2160x1080 with 1 Axes>"
      ]
     },
     "metadata": {
      "tags": []
     },
     "output_type": "display_data"
    }
   ],
   "source": [
    "##https://stackoverflow.com/a/38340448\n",
    "##https://matplotlib.org/api/_as_gen/matplotlib.pyplot.pie.html\n",
    "##https://matplotlib.org/api/_as_gen/matplotlib.figure.Figure.html\n",
    "\n",
    "\n",
    "\n",
    "plt.figure(figsize=(30,15))\n",
    "# plot chart\n",
    "ax1 = plt.subplot(121, aspect='equal')\n",
    "\n",
    "dfA.plot(kind='pie', y = '% of Amino acid', ax=ax1, autopct='%1.1f%%', \n",
    " startangle=50, shadow=False, labels=dfA['Amino acid'], legend = False, fontsize=12)\n",
    "\n",
    "########################################Note###################################################################\n",
    "#startangle:- rotates the start of the pie chart by angle degrees counterclockwise from the x-axis\n",
    "#autopct:- is a string or function used to label the wedges with their numeric value. \n",
    "#The label will be placed inside the wedge. If it is a format string, the label will be fmt%pct. \n",
    "#If it is a function, it will be called\n",
    "#pos:- 121 or 1,2,1 pos is a three digit integer, where the first digit is the number of rows, \n",
    "#the second the number of columns, and the third the index of the subplot."
   ]
  },
  {
   "cell_type": "markdown",
   "metadata": {
    "id": "Ct1UlLFOxswT"
   },
   "source": [
    "Alanine (A) and Lysine (L) has more chunk on the pie of Methyltransf_25 family in all total file"
   ]
  }
 ],
 "metadata": {
  "colab": {
   "collapsed_sections": [],
   "machine_shape": "hm",
   "name": "Annotation_of_Protein_by_Deep_Learning_EDA.ipynb",
   "provenance": []
  },
  "kernelspec": {
   "display_name": "Python 3",
   "language": "python",
   "name": "python3"
  },
  "language_info": {
   "codemirror_mode": {
    "name": "ipython",
    "version": 3
   },
   "file_extension": ".py",
   "mimetype": "text/x-python",
   "name": "python",
   "nbconvert_exporter": "python",
   "pygments_lexer": "ipython3",
   "version": "3.8.5"
  }
 },
 "nbformat": 4,
 "nbformat_minor": 1
}
